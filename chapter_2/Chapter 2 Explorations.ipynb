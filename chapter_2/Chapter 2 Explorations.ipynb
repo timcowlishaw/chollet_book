{
 "cells": [
  {
   "cell_type": "markdown",
   "metadata": {},
   "source": [
    "# First NN example"
   ]
  },
  {
   "cell_type": "markdown",
   "metadata": {},
   "source": [
    "## Import the data"
   ]
  },
  {
   "cell_type": "code",
   "execution_count": 1,
   "metadata": {},
   "outputs": [
    {
     "name": "stderr",
     "output_type": "stream",
     "text": [
      "Using TensorFlow backend.\n"
     ]
    }
   ],
   "source": [
    "from keras.datasets import mnist"
   ]
  },
  {
   "cell_type": "code",
   "execution_count": 2,
   "metadata": {},
   "outputs": [
    {
     "name": "stdout",
     "output_type": "stream",
     "text": [
      "Downloading data from https://s3.amazonaws.com/img-datasets/mnist.npz\n",
      "11493376/11490434 [==============================] - 22s 2us/step\n"
     ]
    }
   ],
   "source": [
    "(train_images, train_labels), (test_images, test_labels) = mnist.load_data()"
   ]
  },
  {
   "cell_type": "code",
   "execution_count": 3,
   "metadata": {},
   "outputs": [
    {
     "data": {
      "text/plain": [
       "(60000, 28, 28)"
      ]
     },
     "execution_count": 3,
     "metadata": {},
     "output_type": "execute_result"
    }
   ],
   "source": [
    "train_images.shape"
   ]
  },
  {
   "cell_type": "code",
   "execution_count": 4,
   "metadata": {},
   "outputs": [
    {
     "data": {
      "text/plain": [
       "(60000,)"
      ]
     },
     "execution_count": 4,
     "metadata": {},
     "output_type": "execute_result"
    }
   ],
   "source": [
    "train_labels.shape"
   ]
  },
  {
   "cell_type": "code",
   "execution_count": 5,
   "metadata": {},
   "outputs": [
    {
     "data": {
      "text/plain": [
       "(10000, 28, 28)"
      ]
     },
     "execution_count": 5,
     "metadata": {},
     "output_type": "execute_result"
    }
   ],
   "source": [
    "test_images.shape"
   ]
  },
  {
   "cell_type": "code",
   "execution_count": 6,
   "metadata": {},
   "outputs": [
    {
     "data": {
      "text/plain": [
       "(10000,)"
      ]
     },
     "execution_count": 6,
     "metadata": {},
     "output_type": "execute_result"
    }
   ],
   "source": [
    "test_labels.shape"
   ]
  },
  {
   "cell_type": "markdown",
   "metadata": {},
   "source": [
    "## Build and train a model"
   ]
  },
  {
   "cell_type": "code",
   "execution_count": 9,
   "metadata": {},
   "outputs": [],
   "source": [
    "from keras import models\n",
    "from keras import layers"
   ]
  },
  {
   "cell_type": "code",
   "execution_count": 11,
   "metadata": {},
   "outputs": [],
   "source": [
    "network = models.Sequential()\n",
    "network.add(layers.Dense(512, activation='relu', input_shape=(28*28,)))\n",
    "network.add(layers.Dense(10, activation='softmax'))"
   ]
  },
  {
   "cell_type": "code",
   "execution_count": 12,
   "metadata": {},
   "outputs": [],
   "source": [
    "network.compile(optimizer='rmsprop', \n",
    "                loss='categorical_crossentropy', \n",
    "                metrics=['accuracy'])"
   ]
  },
  {
   "cell_type": "code",
   "execution_count": 13,
   "metadata": {},
   "outputs": [],
   "source": [
    "train_images = train_images.reshape(((60000, 28*28)))\n",
    "train_images = train_images.astype('float32') / 255\n",
    "\n",
    "test_images = test_images.reshape((10000, 28*28))\n",
    "test_images = test_images.astype('float32') / 255"
   ]
  },
  {
   "cell_type": "code",
   "execution_count": 14,
   "metadata": {},
   "outputs": [],
   "source": [
    "from keras.utils import to_categorical\n",
    "train_labels = to_categorical(train_labels)\n",
    "test_labels =  to_categorical(test_labels)"
   ]
  },
  {
   "cell_type": "code",
   "execution_count": 15,
   "metadata": {},
   "outputs": [
    {
     "name": "stdout",
     "output_type": "stream",
     "text": [
      "Epoch 1/5\n",
      "60000/60000 [==============================] - 2s 39us/step - loss: 0.2523 - acc: 0.9272\n",
      "Epoch 2/5\n",
      "60000/60000 [==============================] - 2s 35us/step - loss: 0.1043 - acc: 0.9689\n",
      "Epoch 3/5\n",
      "60000/60000 [==============================] - 2s 37us/step - loss: 0.0692 - acc: 0.9794\n",
      "Epoch 4/5\n",
      "60000/60000 [==============================] - 2s 37us/step - loss: 0.0499 - acc: 0.9849\n",
      "Epoch 5/5\n",
      "60000/60000 [==============================] - 2s 37us/step - loss: 0.0374 - acc: 0.9890\n"
     ]
    },
    {
     "data": {
      "text/plain": [
       "<keras.callbacks.History at 0x10eac7898>"
      ]
     },
     "execution_count": 15,
     "metadata": {},
     "output_type": "execute_result"
    }
   ],
   "source": [
    "network.fit(train_images, train_labels, epochs=5, batch_size=128)"
   ]
  },
  {
   "cell_type": "markdown",
   "metadata": {},
   "source": [
    "## Evaluate the model on the holdout set"
   ]
  },
  {
   "cell_type": "code",
   "execution_count": 16,
   "metadata": {},
   "outputs": [
    {
     "name": "stdout",
     "output_type": "stream",
     "text": [
      "10000/10000 [==============================] - 0s 28us/step\n"
     ]
    }
   ],
   "source": [
    "test_loss, test_acc = network.evaluate(test_images, test_labels)"
   ]
  },
  {
   "cell_type": "code",
   "execution_count": 17,
   "metadata": {},
   "outputs": [
    {
     "data": {
      "text/plain": [
       "0.9781"
      ]
     },
     "execution_count": 17,
     "metadata": {},
     "output_type": "execute_result"
    }
   ],
   "source": [
    "test_acc"
   ]
  },
  {
   "cell_type": "code",
   "execution_count": 18,
   "metadata": {},
   "outputs": [
    {
     "data": {
      "text/plain": [
       "0.07407088501430116"
      ]
     },
     "execution_count": 18,
     "metadata": {},
     "output_type": "execute_result"
    }
   ],
   "source": [
    "test_loss"
   ]
  },
  {
   "cell_type": "markdown",
   "metadata": {},
   "source": [
    "## Visualise a digit"
   ]
  },
  {
   "cell_type": "code",
   "execution_count": 20,
   "metadata": {},
   "outputs": [],
   "source": [
    "import matplotlib.pyplot as plt"
   ]
  },
  {
   "cell_type": "code",
   "execution_count": 21,
   "metadata": {},
   "outputs": [],
   "source": [
    "%matplotlib inline"
   ]
  },
  {
   "cell_type": "code",
   "execution_count": 25,
   "metadata": {},
   "outputs": [
    {
     "data": {
      "text/plain": [
       "<matplotlib.image.AxesImage at 0x12bd006a0>"
      ]
     },
     "execution_count": 25,
     "metadata": {},
     "output_type": "execute_result"
    },
    {
     "data": {
      "image/png": "[encoded data removed]",
      "text/plain": [
       "<Figure size 432x288 with 1 Axes>"
      ]
     },
     "metadata": {
      "needs_background": "light"
     },
     "output_type": "display_data"
    }
   ],
   "source": [
    "plt.imshow(train_images[4].reshape((28, 28)), cmap=plt.cm.binary)"
   ]
  },
  {
   "cell_type": "markdown",
   "metadata": {},
   "source": [
    "## Broadcasting example"
   ]
  },
  {
   "cell_type": "code",
   "execution_count": 29,
   "metadata": {},
   "outputs": [],
   "source": [
    "import numpy as np"
   ]
  },
  {
   "cell_type": "code",
   "execution_count": 30,
   "metadata": {},
   "outputs": [],
   "source": [
    "x = np.random.random((64, 3, 32, 10))\n",
    "y = np.random.random((32, 10))"
   ]
  },
  {
   "cell_type": "code",
   "execution_count": 31,
   "metadata": {},
   "outputs": [],
   "source": [
    "z = np.maximum(x, y)"
   ]
  },
  {
   "cell_type": "code",
   "execution_count": 32,
   "metadata": {},
   "outputs": [
    {
     "data": {
      "text/plain": [
       "array([[[[0.56832035, 0.70025193, 0.61287425, ..., 0.61247224,\n",
       "          0.44141871, 0.22940675],\n",
       "         [0.55471362, 0.76273057, 0.05757617, ..., 0.88129679,\n",
       "          0.80387605, 0.28754785],\n",
       "         [0.2848414 , 0.95665289, 0.92870516, ..., 0.97558966,\n",
       "          0.73899672, 0.39743777],\n",
       "         ...,\n",
       "         [0.14791513, 0.6252961 , 0.28041398, ..., 0.63581323,\n",
       "          0.82560685, 0.89851848],\n",
       "         [0.74695144, 0.91623842, 0.68639734, ..., 0.19918137,\n",
       "          0.37054475, 0.60825338],\n",
       "         [0.80949394, 0.80565191, 0.55849658, ..., 0.69214268,\n",
       "          0.93413609, 0.93996431]],\n",
       "\n",
       "        [[0.39676436, 0.70995579, 0.58147662, ..., 0.55527079,\n",
       "          0.44141871, 0.67647029],\n",
       "         [0.70418682, 0.76273057, 0.61019209, ..., 0.88129679,\n",
       "          0.42012606, 0.5399893 ],\n",
       "         [0.66793279, 0.06042209, 0.92870516, ..., 0.97558966,\n",
       "          0.7788859 , 0.98297761],\n",
       "         ...,\n",
       "         [0.91853441, 0.55351946, 0.28041398, ..., 0.63581323,\n",
       "          0.82560685, 0.92224684],\n",
       "         [0.16989729, 0.34502969, 0.8681689 , ..., 0.45944244,\n",
       "          0.21226917, 0.60825338],\n",
       "         [0.80949394, 0.70903589, 0.55849658, ..., 0.69214268,\n",
       "          0.93413609, 0.93996431]],\n",
       "\n",
       "        [[0.79828905, 0.70025193, 0.89545085, ..., 0.77132402,\n",
       "          0.93069538, 0.93162467],\n",
       "         [0.97770173, 0.76273057, 0.74196677, ..., 0.88129679,\n",
       "          0.42012606, 0.81162536],\n",
       "         [0.83075513, 0.87128111, 0.92870516, ..., 0.97558966,\n",
       "          0.73899672, 0.73874464],\n",
       "         ...,\n",
       "         [0.47634985, 0.55351946, 0.81513723, ..., 0.63581323,\n",
       "          0.82560685, 0.89851848],\n",
       "         [0.16334956, 0.34502969, 0.68639734, ..., 0.39067845,\n",
       "          0.72347048, 0.60825338],\n",
       "         [0.80949394, 0.84943695, 0.76086407, ..., 0.69214268,\n",
       "          0.93413609, 0.93996431]]],\n",
       "\n",
       "\n",
       "       [[[0.65108501, 0.70025193, 0.97582534, ..., 0.55527079,\n",
       "          0.44141871, 0.88718722],\n",
       "         [0.15203241, 0.76273057, 0.82689233, ..., 0.88129679,\n",
       "          0.42012606, 0.60246249],\n",
       "         [0.93538663, 0.52489611, 0.92870516, ..., 0.97558966,\n",
       "          0.74316024, 0.59880431],\n",
       "         ...,\n",
       "         [0.30372622, 0.55351946, 0.28041398, ..., 0.63581323,\n",
       "          0.99356755, 0.89851848],\n",
       "         [0.8436275 , 0.65265981, 0.68639734, ..., 0.13159961,\n",
       "          0.21226917, 0.60825338],\n",
       "         [0.80949394, 0.77110729, 0.77854332, ..., 0.69214268,\n",
       "          0.93413609, 0.98229298]],\n",
       "\n",
       "        [[0.45065551, 0.70025193, 0.56071797, ..., 0.81664712,\n",
       "          0.78668318, 0.7336923 ],\n",
       "         [0.40063067, 0.76273057, 0.91180301, ..., 0.88129679,\n",
       "          0.72115111, 0.69848246],\n",
       "         [0.33412267, 0.16457294, 0.92870516, ..., 0.97558966,\n",
       "          0.73899672, 0.89792869],\n",
       "         ...,\n",
       "         [0.77541323, 0.83767503, 0.48890374, ..., 0.63581323,\n",
       "          0.82560685, 0.89851848],\n",
       "         [0.17286711, 0.34502969, 0.68639734, ..., 0.87981062,\n",
       "          0.59157142, 0.60825338],\n",
       "         [0.80949394, 0.03927122, 0.59339315, ..., 0.69214268,\n",
       "          0.98723646, 0.97771033]],\n",
       "\n",
       "        [[0.54555972, 0.70025193, 0.88620935, ..., 0.94542715,\n",
       "          0.58874934, 0.16259122],\n",
       "         [0.62049949, 0.96058821, 0.18027263, ..., 0.88129679,\n",
       "          0.62287939, 0.61258896],\n",
       "         [0.79953599, 0.09920092, 0.92870516, ..., 0.97558966,\n",
       "          0.73899672, 0.62241669],\n",
       "         ...,\n",
       "         [0.36506055, 0.55351946, 0.28041398, ..., 0.63581323,\n",
       "          0.82560685, 0.89851848],\n",
       "         [0.68948313, 0.34502969, 0.96206622, ..., 0.06283677,\n",
       "          0.23769401, 0.60825338],\n",
       "         [0.80949394, 0.63203682, 0.66338927, ..., 0.94769535,\n",
       "          0.93413609, 0.93996431]]],\n",
       "\n",
       "\n",
       "       [[[0.74124437, 0.70025193, 0.60222046, ..., 0.62922885,\n",
       "          0.44141871, 0.22015236],\n",
       "         [0.88176289, 0.76273057, 0.99275418, ..., 0.88214759,\n",
       "          0.42012606, 0.83101447],\n",
       "         [0.3448442 , 0.44015279, 0.92870516, ..., 0.97558966,\n",
       "          0.73899672, 0.79052017],\n",
       "         ...,\n",
       "         [0.14462929, 0.55351946, 0.38244023, ..., 0.63581323,\n",
       "          0.82560685, 0.89851848],\n",
       "         [0.98978586, 0.91705361, 0.68639734, ..., 0.14186406,\n",
       "          0.61228459, 0.60825338],\n",
       "         [0.80949394, 0.53529783, 0.70790905, ..., 0.69214268,\n",
       "          0.94662635, 0.98254949]],\n",
       "\n",
       "        [[0.9866657 , 0.70025193, 0.68991979, ..., 0.76887056,\n",
       "          0.71099977, 0.81385835],\n",
       "         [0.29853729, 0.76273057, 0.88145805, ..., 0.88129679,\n",
       "          0.45513678, 0.58796766],\n",
       "         [0.80787969, 0.24135135, 0.92870516, ..., 0.97558966,\n",
       "          0.74616317, 0.39743777],\n",
       "         ...,\n",
       "         [0.71700844, 0.95691572, 0.49029577, ..., 0.92888046,\n",
       "          0.82560685, 0.89851848],\n",
       "         [0.7320115 , 0.34502969, 0.68639734, ..., 0.75519424,\n",
       "          0.21226917, 0.60825338],\n",
       "         [0.80949394, 0.12535646, 0.55849658, ..., 0.69214268,\n",
       "          0.93413609, 0.93996431]],\n",
       "\n",
       "        [[0.34500471, 0.91266614, 0.43818796, ..., 0.55527079,\n",
       "          0.44141871, 0.16259122],\n",
       "         [0.2650129 , 0.76273057, 0.47285189, ..., 0.88129679,\n",
       "          0.42012606, 0.43075042],\n",
       "         [0.67448426, 0.02347815, 0.92870516, ..., 0.97558966,\n",
       "          0.92463416, 0.57555383],\n",
       "         ...,\n",
       "         [0.2037231 , 0.59496153, 0.32293914, ..., 0.63581323,\n",
       "          0.96089671, 0.89851848],\n",
       "         [0.16334956, 0.57454183, 0.68639734, ..., 0.1926756 ,\n",
       "          0.76744821, 0.60825338],\n",
       "         [0.80949394, 0.87284164, 0.55849658, ..., 0.69214268,\n",
       "          0.93413609, 0.93996431]]],\n",
       "\n",
       "\n",
       "       ...,\n",
       "\n",
       "\n",
       "       [[[0.71589618, 0.72263427, 0.43818796, ..., 0.55527079,\n",
       "          0.98157809, 0.60078479],\n",
       "         [0.83283613, 0.97048324, 0.87178019, ..., 0.88129679,\n",
       "          0.47515476, 0.56260693],\n",
       "         [0.5038782 , 0.43235633, 0.92870516, ..., 0.97558966,\n",
       "          0.73899672, 0.55446046],\n",
       "         ...,\n",
       "         [0.60662493, 0.55351946, 0.3045663 , ..., 0.70878371,\n",
       "          0.82560685, 0.98603976],\n",
       "         [0.16334956, 0.91139081, 0.68639734, ..., 0.31702429,\n",
       "          0.38155449, 0.60825338],\n",
       "         [0.80949394, 0.22584342, 0.59203171, ..., 0.69214268,\n",
       "          0.93413609, 0.93996431]],\n",
       "\n",
       "        [[0.16907556, 0.70025193, 0.75260886, ..., 0.99099906,\n",
       "          0.44141871, 0.16259122],\n",
       "         [0.73999592, 0.80569625, 0.8958079 , ..., 0.88129679,\n",
       "          0.91792976, 0.28754785],\n",
       "         [0.44448445, 0.86112733, 0.92870516, ..., 0.97558966,\n",
       "          0.73899672, 0.65211455],\n",
       "         ...,\n",
       "         [0.58425279, 0.55351946, 0.28041398, ..., 0.63581323,\n",
       "          0.82560685, 0.89851848],\n",
       "         [0.73453943, 0.38939746, 0.68639734, ..., 0.65703289,\n",
       "          0.25403926, 0.60825338],\n",
       "         [0.80949394, 0.06360546, 0.55849658, ..., 0.69214268,\n",
       "          0.93413609, 0.93996431]],\n",
       "\n",
       "        [[0.69534524, 0.92062788, 0.69992284, ..., 0.55527079,\n",
       "          0.44657189, 0.46146072],\n",
       "         [0.16997116, 0.76273057, 0.42572698, ..., 0.88129679,\n",
       "          0.42012606, 0.58676706],\n",
       "         [0.7205387 , 0.75260109, 0.92870516, ..., 0.97558966,\n",
       "          0.73899672, 0.82726556],\n",
       "         ...,\n",
       "         [0.14462929, 0.55351946, 0.28041398, ..., 0.88333771,\n",
       "          0.82560685, 0.89851848],\n",
       "         [0.88116416, 0.54439807, 0.68639734, ..., 0.97546376,\n",
       "          0.38841735, 0.63009439],\n",
       "         [0.80949394, 0.60851804, 0.82920832, ..., 0.69214268,\n",
       "          0.93491538, 0.93996431]]],\n",
       "\n",
       "\n",
       "       [[[0.9220183 , 0.76061115, 0.59650162, ..., 0.55527079,\n",
       "          0.67876668, 0.16259122],\n",
       "         [0.1317369 , 0.77839096, 0.47703063, ..., 0.88129679,\n",
       "          0.71454608, 0.5565337 ],\n",
       "         [0.59270465, 0.72735198, 0.92870516, ..., 0.97558966,\n",
       "          0.73899672, 0.39743777],\n",
       "         ...,\n",
       "         [0.86917805, 0.55351946, 0.91526672, ..., 0.83585586,\n",
       "          0.82560685, 0.89851848],\n",
       "         [0.63100653, 0.34502969, 0.79455117, ..., 0.59204062,\n",
       "          0.3133704 , 0.60825338],\n",
       "         [0.80949394, 0.53268192, 0.55849658, ..., 0.69214268,\n",
       "          0.96673947, 0.93996431]],\n",
       "\n",
       "        [[0.81734194, 0.70025193, 0.48222143, ..., 0.5715252 ,\n",
       "          0.70447691, 0.16259122],\n",
       "         [0.2686842 , 0.76273057, 0.03114169, ..., 0.88129679,\n",
       "          0.85714068, 0.33448212],\n",
       "         [0.52272778, 0.23270639, 0.92870516, ..., 0.97558966,\n",
       "          0.73899672, 0.44929952],\n",
       "         ...,\n",
       "         [0.68675161, 0.55351946, 0.80346013, ..., 0.84817977,\n",
       "          0.82560685, 0.89851848],\n",
       "         [0.197992  , 0.47114623, 0.68639734, ..., 0.96937023,\n",
       "          0.82348525, 0.60825338],\n",
       "         [0.80949394, 0.43954046, 0.55849658, ..., 0.80434439,\n",
       "          0.93413609, 0.93996431]],\n",
       "\n",
       "        [[0.2267672 , 0.70025193, 0.4628805 , ..., 0.55527079,\n",
       "          0.86143176, 0.98818425],\n",
       "         [0.78707913, 0.76273057, 0.84674735, ..., 0.95894375,\n",
       "          0.92242186, 0.28754785],\n",
       "         [0.50705277, 0.63366076, 0.92870516, ..., 0.97558966,\n",
       "          0.73899672, 0.39743777],\n",
       "         ...,\n",
       "         [0.84299624, 0.55351946, 0.39084724, ..., 0.87447521,\n",
       "          0.94598614, 0.89851848],\n",
       "         [0.7672376 , 0.73603824, 0.68639734, ..., 0.91843057,\n",
       "          0.21226917, 0.86105394],\n",
       "         [0.94994784, 0.84074696, 0.55849658, ..., 0.69214268,\n",
       "          0.93413609, 0.93996431]]],\n",
       "\n",
       "\n",
       "       [[[0.70891648, 0.70025193, 0.43818796, ..., 0.55527079,\n",
       "          0.44141871, 0.98140229],\n",
       "         [0.68399567, 0.76273057, 0.64029132, ..., 0.88129679,\n",
       "          0.42012606, 0.30967334],\n",
       "         [0.28756551, 0.37949979, 0.92870516, ..., 0.97558966,\n",
       "          0.73899672, 0.7200335 ],\n",
       "         ...,\n",
       "         [0.84337927, 0.60714866, 0.75487436, ..., 0.64020174,\n",
       "          0.82560685, 0.89851848],\n",
       "         [0.4005781 , 0.57629503, 0.68639734, ..., 0.30092343,\n",
       "          0.69268822, 0.76622831],\n",
       "         [0.80949394, 0.10669461, 0.68902349, ..., 0.69214268,\n",
       "          0.93413609, 0.93996431]],\n",
       "\n",
       "        [[0.28411978, 0.70025193, 0.43818796, ..., 0.55527079,\n",
       "          0.46725383, 0.82955448],\n",
       "         [0.93371981, 0.76273057, 0.63618707, ..., 0.88129679,\n",
       "          0.9283948 , 0.28754785],\n",
       "         [0.86339028, 0.21457023, 0.92870516, ..., 0.97558966,\n",
       "          0.87117531, 0.50615626],\n",
       "         ...,\n",
       "         [0.87574017, 0.58260744, 0.42493671, ..., 0.63581323,\n",
       "          0.82560685, 0.90697926],\n",
       "         [0.71477438, 0.34502969, 0.68639734, ..., 0.11303435,\n",
       "          0.21226917, 0.60825338],\n",
       "         [0.87695382, 0.70102373, 0.55849658, ..., 0.69214268,\n",
       "          0.93413609, 0.93996431]],\n",
       "\n",
       "        [[0.13463989, 0.70025193, 0.43818796, ..., 0.55527079,\n",
       "          0.57761815, 0.5139163 ],\n",
       "         [0.41282701, 0.76273057, 0.70048542, ..., 0.88129679,\n",
       "          0.42012606, 0.28754785],\n",
       "         [0.18385788, 0.05695006, 0.92870516, ..., 0.97558966,\n",
       "          0.73899672, 0.95359106],\n",
       "         ...,\n",
       "         [0.96963937, 0.55985501, 0.28041398, ..., 0.63581323,\n",
       "          0.82560685, 0.89851848],\n",
       "         [0.24627994, 0.74686765, 0.68639734, ..., 0.07734585,\n",
       "          0.41754446, 0.60825338],\n",
       "         [0.80949394, 0.21205842, 0.55849658, ..., 0.81657801,\n",
       "          0.93413609, 0.93996431]]]])"
      ]
     },
     "execution_count": 32,
     "metadata": {},
     "output_type": "execute_result"
    }
   ],
   "source": []
  },
  {
   "cell_type": "code",
   "execution_count": null,
   "metadata": {},
   "outputs": [],
   "source": []
  }
 ],
 "metadata": {
  "kernelspec": {
   "display_name": "Python 3",
   "language": "python",
   "name": "python3"
  },
  "language_info": {
   "codemirror_mode": {
    "name": "ipython",
    "version": 3
   },
   "file_extension": ".py",
   "mimetype": "text/x-python",
   "name": "python",
   "nbconvert_exporter": "python",
   "pygments_lexer": "ipython3",
   "version": "3.5.6"
  }
 },
 "nbformat": 4,
 "nbformat_minor": 2
}
